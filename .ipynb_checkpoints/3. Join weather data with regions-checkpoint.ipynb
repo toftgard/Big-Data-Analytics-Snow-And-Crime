{
 "cells": [
  {
   "cell_type": "code",
   "execution_count": 2,
   "metadata": {},
   "outputs": [],
   "source": [
    "import pandas as pd"
   ]
  },
  {
   "cell_type": "code",
   "execution_count": 3,
   "metadata": {},
   "outputs": [],
   "source": [
    "from IPython.display import clear_output"
   ]
  },
  {
   "cell_type": "code",
   "execution_count": null,
   "metadata": {},
   "outputs": [],
   "source": []
  },
  {
   "cell_type": "code",
   "execution_count": 4,
   "metadata": {},
   "outputs": [],
   "source": [
    "name_region = pd.read_excel(\"name_region.xlsx\", engine=\"openpyxl\")\n",
    "name_region = name_region[[\"Name\", \"County\"]]\n",
    "name_region[\"County\"][3] = \"Västra Götalands län\""
   ]
  },
  {
   "cell_type": "code",
   "execution_count": 5,
   "metadata": {},
   "outputs": [],
   "source": [
    "weather_new = pd.read_csv(\"C:/Users/Henrik/Documents/LeTitsNow/weather_data_new.csv\")"
   ]
  },
  {
   "cell_type": "code",
   "execution_count": 6,
   "metadata": {},
   "outputs": [],
   "source": [
    "locations = weather_new[\"location\"]"
   ]
  },
  {
   "cell_type": "code",
   "execution_count": 7,
   "metadata": {},
   "outputs": [
    {
     "data": {
      "text/plain": [
       "set()"
      ]
     },
     "execution_count": 7,
     "metadata": {},
     "output_type": "execute_result"
    }
   ],
   "source": [
    "#Samma\n",
    "set(name_region[\"Name\"]) - set(locations)"
   ]
  },
  {
   "cell_type": "code",
   "execution_count": 8,
   "metadata": {},
   "outputs": [
    {
     "data": {
      "text/plain": [
       "484"
      ]
     },
     "execution_count": 8,
     "metadata": {},
     "output_type": "execute_result"
    }
   ],
   "source": [
    "len(name_region[\"Name\"])"
   ]
  },
  {
   "cell_type": "code",
   "execution_count": 9,
   "metadata": {},
   "outputs": [
    {
     "data": {
      "text/plain": [
       "484"
      ]
     },
     "execution_count": 9,
     "metadata": {},
     "output_type": "execute_result"
    }
   ],
   "source": [
    "len(set(locations))"
   ]
  },
  {
   "cell_type": "code",
   "execution_count": 16,
   "metadata": {},
   "outputs": [],
   "source": [
    "weather_from_95 = weather_new[weather_new[\"date\"]>=\"1995-01-01\"]"
   ]
  },
  {
   "cell_type": "code",
   "execution_count": 18,
   "metadata": {},
   "outputs": [
    {
     "data": {
      "text/html": [
       "<div>\n",
       "<style scoped>\n",
       "    .dataframe tbody tr th:only-of-type {\n",
       "        vertical-align: middle;\n",
       "    }\n",
       "\n",
       "    .dataframe tbody tr th {\n",
       "        vertical-align: top;\n",
       "    }\n",
       "\n",
       "    .dataframe thead th {\n",
       "        text-align: right;\n",
       "    }\n",
       "</style>\n",
       "<table border=\"1\" class=\"dataframe\">\n",
       "  <thead>\n",
       "    <tr style=\"text-align: right;\">\n",
       "      <th></th>\n",
       "      <th>location</th>\n",
       "      <th>date</th>\n",
       "      <th>snow_depth</th>\n",
       "    </tr>\n",
       "  </thead>\n",
       "  <tbody>\n",
       "    <tr>\n",
       "      <th>8378</th>\n",
       "      <td>Abisko</td>\n",
       "      <td>1995-01-01</td>\n",
       "      <td>17</td>\n",
       "    </tr>\n",
       "    <tr>\n",
       "      <th>8379</th>\n",
       "      <td>Abisko</td>\n",
       "      <td>1995-01-02</td>\n",
       "      <td>17</td>\n",
       "    </tr>\n",
       "    <tr>\n",
       "      <th>8380</th>\n",
       "      <td>Abisko</td>\n",
       "      <td>1995-01-03</td>\n",
       "      <td>17</td>\n",
       "    </tr>\n",
       "    <tr>\n",
       "      <th>8381</th>\n",
       "      <td>Abisko</td>\n",
       "      <td>1995-01-04</td>\n",
       "      <td>17</td>\n",
       "    </tr>\n",
       "    <tr>\n",
       "      <th>8382</th>\n",
       "      <td>Abisko</td>\n",
       "      <td>1995-01-05</td>\n",
       "      <td>17</td>\n",
       "    </tr>\n",
       "    <tr>\n",
       "      <th>...</th>\n",
       "      <td>...</td>\n",
       "      <td>...</td>\n",
       "      <td>...</td>\n",
       "    </tr>\n",
       "    <tr>\n",
       "      <th>3145128</th>\n",
       "      <td>Övre Soppero</td>\n",
       "      <td>2021-08-28</td>\n",
       "      <td>0</td>\n",
       "    </tr>\n",
       "    <tr>\n",
       "      <th>3145129</th>\n",
       "      <td>Övre Soppero</td>\n",
       "      <td>2021-08-29</td>\n",
       "      <td>0</td>\n",
       "    </tr>\n",
       "    <tr>\n",
       "      <th>3145130</th>\n",
       "      <td>Övre Soppero</td>\n",
       "      <td>2021-08-30</td>\n",
       "      <td>0</td>\n",
       "    </tr>\n",
       "    <tr>\n",
       "      <th>3145131</th>\n",
       "      <td>Övre Soppero</td>\n",
       "      <td>2021-08-31</td>\n",
       "      <td>0</td>\n",
       "    </tr>\n",
       "    <tr>\n",
       "      <th>3145132</th>\n",
       "      <td>Övre Soppero</td>\n",
       "      <td>2021-09-01</td>\n",
       "      <td>0</td>\n",
       "    </tr>\n",
       "  </tbody>\n",
       "</table>\n",
       "<p>2044549 rows × 3 columns</p>\n",
       "</div>"
      ],
      "text/plain": [
       "             location        date  snow_depth\n",
       "8378           Abisko  1995-01-01          17\n",
       "8379           Abisko  1995-01-02          17\n",
       "8380           Abisko  1995-01-03          17\n",
       "8381           Abisko  1995-01-04          17\n",
       "8382           Abisko  1995-01-05          17\n",
       "...               ...         ...         ...\n",
       "3145128  Övre Soppero  2021-08-28           0\n",
       "3145129  Övre Soppero  2021-08-29           0\n",
       "3145130  Övre Soppero  2021-08-30           0\n",
       "3145131  Övre Soppero  2021-08-31           0\n",
       "3145132  Övre Soppero  2021-09-01           0\n",
       "\n",
       "[2044549 rows x 3 columns]"
      ]
     },
     "execution_count": 18,
     "metadata": {},
     "output_type": "execute_result"
    }
   ],
   "source": [
    "weather_from_95"
   ]
  },
  {
   "cell_type": "code",
   "execution_count": 19,
   "metadata": {},
   "outputs": [],
   "source": [
    "def add_regions(df, name_regions):\n",
    "    new_col = []\n",
    "    count = 0\n",
    "    for region in df[\"location\"]:\n",
    "        count = count +1\n",
    "        try:\n",
    "            new_value = name_regions[name_regions[\"Name\"]==region][\"County\"][0]\n",
    "            new_col.append(new_value)\n",
    "        except KeyError:\n",
    "            new_col.append(\"Error\")\n",
    "        finally:\n",
    "            clear_output(wait=True)\n",
    "            print(str(count) + \" / \"+str(len(df[\"location\"]))  )\n",
    "    df[\"Region\"] = new_col\n",
    "    return df"
   ]
  },
  {
   "cell_type": "code",
   "execution_count": 20,
   "metadata": {},
   "outputs": [
    {
     "name": "stdout",
     "output_type": "stream",
     "text": [
      "2044549 / 2044549\n"
     ]
    },
    {
     "name": "stderr",
     "output_type": "stream",
     "text": [
      "C:\\Users\\Henrik\\anaconda3\\envs\\tensorflow_env\\lib\\site-packages\\ipykernel_launcher.py:14: SettingWithCopyWarning: \n",
      "A value is trying to be set on a copy of a slice from a DataFrame.\n",
      "Try using .loc[row_indexer,col_indexer] = value instead\n",
      "\n",
      "See the caveats in the documentation: https://pandas.pydata.org/pandas-docs/stable/user_guide/indexing.html#returning-a-view-versus-a-copy\n",
      "  \n"
     ]
    }
   ],
   "source": [
    "weather_regions = add_regions(weather_from_95, name_region)"
   ]
  },
  {
   "cell_type": "code",
   "execution_count": 21,
   "metadata": {},
   "outputs": [
    {
     "data": {
      "text/html": [
       "<div>\n",
       "<style scoped>\n",
       "    .dataframe tbody tr th:only-of-type {\n",
       "        vertical-align: middle;\n",
       "    }\n",
       "\n",
       "    .dataframe tbody tr th {\n",
       "        vertical-align: top;\n",
       "    }\n",
       "\n",
       "    .dataframe thead th {\n",
       "        text-align: right;\n",
       "    }\n",
       "</style>\n",
       "<table border=\"1\" class=\"dataframe\">\n",
       "  <thead>\n",
       "    <tr style=\"text-align: right;\">\n",
       "      <th></th>\n",
       "      <th>location</th>\n",
       "      <th>date</th>\n",
       "      <th>snow_depth</th>\n",
       "      <th>Region</th>\n",
       "    </tr>\n",
       "  </thead>\n",
       "  <tbody>\n",
       "    <tr>\n",
       "      <th>8378</th>\n",
       "      <td>Abisko</td>\n",
       "      <td>1995-01-01</td>\n",
       "      <td>17</td>\n",
       "      <td>Norrbottens län</td>\n",
       "    </tr>\n",
       "    <tr>\n",
       "      <th>8379</th>\n",
       "      <td>Abisko</td>\n",
       "      <td>1995-01-02</td>\n",
       "      <td>17</td>\n",
       "      <td>Norrbottens län</td>\n",
       "    </tr>\n",
       "    <tr>\n",
       "      <th>8380</th>\n",
       "      <td>Abisko</td>\n",
       "      <td>1995-01-03</td>\n",
       "      <td>17</td>\n",
       "      <td>Norrbottens län</td>\n",
       "    </tr>\n",
       "    <tr>\n",
       "      <th>8381</th>\n",
       "      <td>Abisko</td>\n",
       "      <td>1995-01-04</td>\n",
       "      <td>17</td>\n",
       "      <td>Norrbottens län</td>\n",
       "    </tr>\n",
       "    <tr>\n",
       "      <th>8382</th>\n",
       "      <td>Abisko</td>\n",
       "      <td>1995-01-05</td>\n",
       "      <td>17</td>\n",
       "      <td>Norrbottens län</td>\n",
       "    </tr>\n",
       "    <tr>\n",
       "      <th>...</th>\n",
       "      <td>...</td>\n",
       "      <td>...</td>\n",
       "      <td>...</td>\n",
       "      <td>...</td>\n",
       "    </tr>\n",
       "    <tr>\n",
       "      <th>3145128</th>\n",
       "      <td>Övre Soppero</td>\n",
       "      <td>2021-08-28</td>\n",
       "      <td>0</td>\n",
       "      <td>Error</td>\n",
       "    </tr>\n",
       "    <tr>\n",
       "      <th>3145129</th>\n",
       "      <td>Övre Soppero</td>\n",
       "      <td>2021-08-29</td>\n",
       "      <td>0</td>\n",
       "      <td>Error</td>\n",
       "    </tr>\n",
       "    <tr>\n",
       "      <th>3145130</th>\n",
       "      <td>Övre Soppero</td>\n",
       "      <td>2021-08-30</td>\n",
       "      <td>0</td>\n",
       "      <td>Error</td>\n",
       "    </tr>\n",
       "    <tr>\n",
       "      <th>3145131</th>\n",
       "      <td>Övre Soppero</td>\n",
       "      <td>2021-08-31</td>\n",
       "      <td>0</td>\n",
       "      <td>Error</td>\n",
       "    </tr>\n",
       "    <tr>\n",
       "      <th>3145132</th>\n",
       "      <td>Övre Soppero</td>\n",
       "      <td>2021-09-01</td>\n",
       "      <td>0</td>\n",
       "      <td>Error</td>\n",
       "    </tr>\n",
       "  </tbody>\n",
       "</table>\n",
       "<p>2044549 rows × 4 columns</p>\n",
       "</div>"
      ],
      "text/plain": [
       "             location        date  snow_depth           Region\n",
       "8378           Abisko  1995-01-01          17  Norrbottens län\n",
       "8379           Abisko  1995-01-02          17  Norrbottens län\n",
       "8380           Abisko  1995-01-03          17  Norrbottens län\n",
       "8381           Abisko  1995-01-04          17  Norrbottens län\n",
       "8382           Abisko  1995-01-05          17  Norrbottens län\n",
       "...               ...         ...         ...              ...\n",
       "3145128  Övre Soppero  2021-08-28           0            Error\n",
       "3145129  Övre Soppero  2021-08-29           0            Error\n",
       "3145130  Övre Soppero  2021-08-30           0            Error\n",
       "3145131  Övre Soppero  2021-08-31           0            Error\n",
       "3145132  Övre Soppero  2021-09-01           0            Error\n",
       "\n",
       "[2044549 rows x 4 columns]"
      ]
     },
     "execution_count": 21,
     "metadata": {},
     "output_type": "execute_result"
    }
   ],
   "source": [
    "weather_regions"
   ]
  },
  {
   "cell_type": "code",
   "execution_count": 23,
   "metadata": {},
   "outputs": [
    {
     "ename": "ValueError",
     "evalue": "This sheet is too large! Your sheet size is: 2044549, 4 Max sheet size is: 1048576, 16384",
     "output_type": "error",
     "traceback": [
      "\u001b[1;31m---------------------------------------------------------------------------\u001b[0m",
      "\u001b[1;31mValueError\u001b[0m                                Traceback (most recent call last)",
      "\u001b[1;32m<ipython-input-23-e6eda2abaa57>\u001b[0m in \u001b[0;36m<module>\u001b[1;34m\u001b[0m\n\u001b[1;32m----> 1\u001b[1;33m \u001b[0mweather_regions\u001b[0m\u001b[1;33m.\u001b[0m\u001b[0mto_excel\u001b[0m\u001b[1;33m(\u001b[0m\u001b[1;34m\"weather_regions.xlsx\"\u001b[0m\u001b[1;33m)\u001b[0m\u001b[1;33m\u001b[0m\u001b[0m\n\u001b[0m",
      "\u001b[1;32m~\\anaconda3\\envs\\tensorflow_env\\lib\\site-packages\\pandas\\core\\generic.py\u001b[0m in \u001b[0;36mto_excel\u001b[1;34m(self, excel_writer, sheet_name, na_rep, float_format, columns, header, index, index_label, startrow, startcol, engine, merge_cells, encoding, inf_rep, verbose, freeze_panes)\u001b[0m\n\u001b[0;32m   2179\u001b[0m             \u001b[0mstartcol\u001b[0m\u001b[1;33m=\u001b[0m\u001b[0mstartcol\u001b[0m\u001b[1;33m,\u001b[0m\u001b[1;33m\u001b[0m\u001b[0m\n\u001b[0;32m   2180\u001b[0m             \u001b[0mfreeze_panes\u001b[0m\u001b[1;33m=\u001b[0m\u001b[0mfreeze_panes\u001b[0m\u001b[1;33m,\u001b[0m\u001b[1;33m\u001b[0m\u001b[0m\n\u001b[1;32m-> 2181\u001b[1;33m             \u001b[0mengine\u001b[0m\u001b[1;33m=\u001b[0m\u001b[0mengine\u001b[0m\u001b[1;33m,\u001b[0m\u001b[1;33m\u001b[0m\u001b[0m\n\u001b[0m\u001b[0;32m   2182\u001b[0m         )\n\u001b[0;32m   2183\u001b[0m \u001b[1;33m\u001b[0m\u001b[0m\n",
      "\u001b[1;32m~\\anaconda3\\envs\\tensorflow_env\\lib\\site-packages\\pandas\\io\\formats\\excel.py\u001b[0m in \u001b[0;36mwrite\u001b[1;34m(self, writer, sheet_name, startrow, startcol, freeze_panes, engine)\u001b[0m\n\u001b[0;32m    717\u001b[0m         \u001b[1;32mif\u001b[0m \u001b[0mnum_rows\u001b[0m \u001b[1;33m>\u001b[0m \u001b[0mself\u001b[0m\u001b[1;33m.\u001b[0m\u001b[0mmax_rows\u001b[0m \u001b[1;32mor\u001b[0m \u001b[0mnum_cols\u001b[0m \u001b[1;33m>\u001b[0m \u001b[0mself\u001b[0m\u001b[1;33m.\u001b[0m\u001b[0mmax_cols\u001b[0m\u001b[1;33m:\u001b[0m\u001b[1;33m\u001b[0m\u001b[0m\n\u001b[0;32m    718\u001b[0m             raise ValueError(\n\u001b[1;32m--> 719\u001b[1;33m                 \u001b[1;34mf\"This sheet is too large! Your sheet size is: {num_rows}, {num_cols} \"\u001b[0m\u001b[1;33m\u001b[0m\u001b[0m\n\u001b[0m\u001b[0;32m    720\u001b[0m                 \u001b[1;34mf\"Max sheet size is: {self.max_rows}, {self.max_cols}\"\u001b[0m\u001b[1;33m\u001b[0m\u001b[0m\n\u001b[0;32m    721\u001b[0m             )\n",
      "\u001b[1;31mValueError\u001b[0m: This sheet is too large! Your sheet size is: 2044549, 4 Max sheet size is: 1048576, 16384"
     ]
    }
   ],
   "source": [
    "#weather_regions.to_excel(\"weather_regions.xlsx\")"
   ]
  },
  {
   "cell_type": "code",
   "execution_count": 24,
   "metadata": {},
   "outputs": [],
   "source": [
    "weather_regions.to_csv(\"weather_regions.csv\")"
   ]
  },
  {
   "cell_type": "code",
   "execution_count": null,
   "metadata": {},
   "outputs": [],
   "source": []
  }
 ],
 "metadata": {
  "kernelspec": {
   "display_name": "Python 3",
   "language": "python",
   "name": "python3"
  },
  "language_info": {
   "codemirror_mode": {
    "name": "ipython",
    "version": 3
   },
   "file_extension": ".py",
   "mimetype": "text/x-python",
   "name": "python",
   "nbconvert_exporter": "python",
   "pygments_lexer": "ipython3",
   "version": "3.7.0"
  }
 },
 "nbformat": 4,
 "nbformat_minor": 4
}
