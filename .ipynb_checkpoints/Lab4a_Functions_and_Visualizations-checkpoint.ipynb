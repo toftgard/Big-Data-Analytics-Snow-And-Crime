{
 "cells": [
  {
   "cell_type": "markdown",
   "metadata": {},
   "source": [
    "# Lab 4a: Functions and Visualizations"
   ]
  },
  {
   "cell_type": "markdown",
   "metadata": {},
   "source": [
    "Welcome to Lab 4a. In this lab, we'll practice writing *functions* and using the `DataFrame` method `apply`.  We'll also learn about visualization using `matplotlib`.\n",
    "\n",
    "First, set up the imports by running the cell below."
   ]
  },
  {
   "cell_type": "code",
   "execution_count": 1,
   "metadata": {},
   "outputs": [],
   "source": [
    "import numpy as np\n",
    "import pandas as pd\n",
    "import matplotlib\n",
    "%matplotlib inline\n",
    "import matplotlib.pyplot as plt\n",
    "import warnings\n",
    "warnings.simplefilter('ignore', FutureWarning)\n",
    "from ipywidgets import interact, interactive, fixed, interact_manual\n",
    "import ipywidgets as widgets"
   ]
  },
  {
   "cell_type": "markdown",
   "metadata": {},
   "source": [
    "## 1. Functions and CEO Incomes\n",
    "\n",
    "Let's start with a real data analysis task.  We'll look at the 2015 compensation of CEOs at the 100 largest companies in California.  The data were compiled for a Los Angeles Times analysis [here](http://spreadsheets.latimes.com/california-ceo-compensation/), and ultimately came from [filings](https://www.sec.gov/answers/proxyhtf.htm) mandated by the SEC from all publicly-traded companies.  Two companies have two CEOs, so there are 102 CEOs in the dataset.\n",
    "\n",
    "We've copied the data in raw form from the LA Times page into a file called `raw_compensation.csv`.  (The page notes that all dollar amounts are in millions of dollars.)"
   ]
  },
  {
   "cell_type": "code",
   "execution_count": 2,
   "metadata": {},
   "outputs": [
    {
     "data": {
      "text/html": [
       "<div>\n",
       "<style scoped>\n",
       "    .dataframe tbody tr th:only-of-type {\n",
       "        vertical-align: middle;\n",
       "    }\n",
       "\n",
       "    .dataframe tbody tr th {\n",
       "        vertical-align: top;\n",
       "    }\n",
       "\n",
       "    .dataframe thead th {\n",
       "        text-align: right;\n",
       "    }\n",
       "</style>\n",
       "<table border=\"1\" class=\"dataframe\">\n",
       "  <thead>\n",
       "    <tr style=\"text-align: right;\">\n",
       "      <th></th>\n",
       "      <th>Rank</th>\n",
       "      <th>Name</th>\n",
       "      <th>Company (Headquarters)</th>\n",
       "      <th>Total Pay</th>\n",
       "      <th>% Change</th>\n",
       "      <th>Cash Pay</th>\n",
       "      <th>Equity Pay</th>\n",
       "      <th>Other Pay</th>\n",
       "      <th>Ratio of CEO pay to average industry worker pay</th>\n",
       "    </tr>\n",
       "  </thead>\n",
       "  <tbody>\n",
       "    <tr>\n",
       "      <th>0</th>\n",
       "      <td>1</td>\n",
       "      <td>Mark V. Hurd*</td>\n",
       "      <td>Oracle (Redwood City)</td>\n",
       "      <td>$53.25</td>\n",
       "      <td>(No previous year)</td>\n",
       "      <td>$0.95</td>\n",
       "      <td>$52.27</td>\n",
       "      <td>$0.02</td>\n",
       "      <td>362.00000</td>\n",
       "    </tr>\n",
       "    <tr>\n",
       "      <th>1</th>\n",
       "      <td>2</td>\n",
       "      <td>Safra A. Catz*</td>\n",
       "      <td>Oracle (Redwood City)</td>\n",
       "      <td>$53.24</td>\n",
       "      <td>(No previous year)</td>\n",
       "      <td>$0.95</td>\n",
       "      <td>$52.27</td>\n",
       "      <td>$0.02</td>\n",
       "      <td>362.00000</td>\n",
       "    </tr>\n",
       "    <tr>\n",
       "      <th>2</th>\n",
       "      <td>3</td>\n",
       "      <td>Robert A. Iger</td>\n",
       "      <td>Walt Disney (Burbank)</td>\n",
       "      <td>$44.91</td>\n",
       "      <td>-3%</td>\n",
       "      <td>$24.89</td>\n",
       "      <td>$17.28</td>\n",
       "      <td>$2.74</td>\n",
       "      <td>477.00000</td>\n",
       "    </tr>\n",
       "    <tr>\n",
       "      <th>3</th>\n",
       "      <td>4</td>\n",
       "      <td>Marissa A. Mayer</td>\n",
       "      <td>Yahoo! (Sunnyvale)</td>\n",
       "      <td>$35.98</td>\n",
       "      <td>-15%</td>\n",
       "      <td>$1.00</td>\n",
       "      <td>$34.43</td>\n",
       "      <td>$0.55</td>\n",
       "      <td>342.00000</td>\n",
       "    </tr>\n",
       "    <tr>\n",
       "      <th>4</th>\n",
       "      <td>5</td>\n",
       "      <td>Marc Benioff</td>\n",
       "      <td>salesforce.com (San Francisco)</td>\n",
       "      <td>$33.36</td>\n",
       "      <td>-16%</td>\n",
       "      <td>$4.65</td>\n",
       "      <td>$27.26</td>\n",
       "      <td>$1.45</td>\n",
       "      <td>338.00000</td>\n",
       "    </tr>\n",
       "    <tr>\n",
       "      <th>...</th>\n",
       "      <td>...</td>\n",
       "      <td>...</td>\n",
       "      <td>...</td>\n",
       "      <td>...</td>\n",
       "      <td>...</td>\n",
       "      <td>...</td>\n",
       "      <td>...</td>\n",
       "      <td>...</td>\n",
       "      <td>...</td>\n",
       "    </tr>\n",
       "    <tr>\n",
       "      <th>97</th>\n",
       "      <td>98</td>\n",
       "      <td>Gregory N. Roberts</td>\n",
       "      <td>A-Mark Precious Metals (Santa Monica)</td>\n",
       "      <td>$0.94</td>\n",
       "      <td>-11%</td>\n",
       "      <td>$0.93</td>\n",
       "      <td>$0.00</td>\n",
       "      <td>$0.02</td>\n",
       "      <td>17.00000</td>\n",
       "    </tr>\n",
       "    <tr>\n",
       "      <th>98</th>\n",
       "      <td>99</td>\n",
       "      <td>Jose L. Laparte</td>\n",
       "      <td>PriceSmart (San Diego)</td>\n",
       "      <td>$0.81</td>\n",
       "      <td>-7%</td>\n",
       "      <td>$0.71</td>\n",
       "      <td>$0.00</td>\n",
       "      <td>$0.10</td>\n",
       "      <td>32.00000</td>\n",
       "    </tr>\n",
       "    <tr>\n",
       "      <th>99</th>\n",
       "      <td>100</td>\n",
       "      <td>Jack Dorsey</td>\n",
       "      <td>Twitter (San Francisco)</td>\n",
       "      <td>$0.07</td>\n",
       "      <td>(No previous year)</td>\n",
       "      <td>$0.00</td>\n",
       "      <td>$0.00</td>\n",
       "      <td>$0.07</td>\n",
       "      <td>0.63000</td>\n",
       "    </tr>\n",
       "    <tr>\n",
       "      <th>100</th>\n",
       "      <td>101</td>\n",
       "      <td>Elon R. Musk</td>\n",
       "      <td>Tesla Motors (Palo Alto)</td>\n",
       "      <td>$0.04</td>\n",
       "      <td>6%</td>\n",
       "      <td>$0.04</td>\n",
       "      <td>$0.00</td>\n",
       "      <td>$0.00</td>\n",
       "      <td>0.46000</td>\n",
       "    </tr>\n",
       "    <tr>\n",
       "      <th>101</th>\n",
       "      <td>102</td>\n",
       "      <td>Lawrence Page***</td>\n",
       "      <td>Alphabet (Mountain View)</td>\n",
       "      <td>$0.00</td>\n",
       "      <td>0%</td>\n",
       "      <td>$0.00</td>\n",
       "      <td>$0.00</td>\n",
       "      <td>$0.00</td>\n",
       "      <td>0.00001</td>\n",
       "    </tr>\n",
       "  </tbody>\n",
       "</table>\n",
       "<p>102 rows × 9 columns</p>\n",
       "</div>"
      ],
      "text/plain": [
       "     Rank                Name                 Company (Headquarters)  \\\n",
       "0       1       Mark V. Hurd*                  Oracle (Redwood City)   \n",
       "1       2      Safra A. Catz*                  Oracle (Redwood City)   \n",
       "2       3      Robert A. Iger                  Walt Disney (Burbank)   \n",
       "3       4    Marissa A. Mayer                     Yahoo! (Sunnyvale)   \n",
       "4       5        Marc Benioff         salesforce.com (San Francisco)   \n",
       "..    ...                 ...                                    ...   \n",
       "97     98  Gregory N. Roberts  A-Mark Precious Metals (Santa Monica)   \n",
       "98     99     Jose L. Laparte                 PriceSmart (San Diego)   \n",
       "99    100         Jack Dorsey                Twitter (San Francisco)   \n",
       "100   101        Elon R. Musk               Tesla Motors (Palo Alto)   \n",
       "101   102    Lawrence Page***               Alphabet (Mountain View)   \n",
       "\n",
       "    Total Pay            % Change Cash Pay Equity Pay Other Pay  \\\n",
       "0     $53.25   (No previous year)   $0.95     $52.27     $0.02    \n",
       "1     $53.24   (No previous year)   $0.95     $52.27     $0.02    \n",
       "2     $44.91                  -3%  $24.89     $17.28     $2.74    \n",
       "3     $35.98                 -15%   $1.00     $34.43     $0.55    \n",
       "4     $33.36                 -16%   $4.65     $27.26     $1.45    \n",
       "..        ...                 ...      ...        ...       ...   \n",
       "97     $0.94                 -11%   $0.93      $0.00     $0.02    \n",
       "98     $0.81                  -7%   $0.71      $0.00     $0.10    \n",
       "99     $0.07   (No previous year)   $0.00      $0.00     $0.07    \n",
       "100    $0.04                   6%   $0.04      $0.00     $0.00    \n",
       "101    $0.00                   0%   $0.00      $0.00     $0.00    \n",
       "\n",
       "     Ratio of CEO pay to average industry worker pay  \n",
       "0                                          362.00000  \n",
       "1                                          362.00000  \n",
       "2                                          477.00000  \n",
       "3                                          342.00000  \n",
       "4                                          338.00000  \n",
       "..                                               ...  \n",
       "97                                          17.00000  \n",
       "98                                          32.00000  \n",
       "99                                           0.63000  \n",
       "100                                          0.46000  \n",
       "101                                          0.00001  \n",
       "\n",
       "[102 rows x 9 columns]"
      ]
     },
     "execution_count": 2,
     "metadata": {},
     "output_type": "execute_result"
    }
   ],
   "source": [
    "raw_compensation = pd.read_csv('raw_compensation.csv')\n",
    "raw_compensation"
   ]
  },
  {
   "cell_type": "markdown",
   "metadata": {},
   "source": [
    "**Question 1.** We want to compute the average of the CEOs' pay. Try running the cell below."
   ]
  },
  {
   "cell_type": "code",
   "execution_count": 3,
   "metadata": {},
   "outputs": [
    {
     "ename": "TypeError",
     "evalue": "ufunc 'true_divide' not supported for the input types, and the inputs could not be safely coerced to any supported types according to the casting rule ''safe''",
     "output_type": "error",
     "traceback": [
      "\u001b[0;31m---------------------------------------------------------------------------\u001b[0m",
      "\u001b[0;31mTypeError\u001b[0m                                 Traceback (most recent call last)",
      "\u001b[0;32m/var/folders/cp/4l5cyd252gl8gyd90gw38swr0000gn/T/ipykernel_17109/3101183206.py\u001b[0m in \u001b[0;36m<module>\u001b[0;34m\u001b[0m\n\u001b[0;32m----> 1\u001b[0;31m \u001b[0mnp\u001b[0m\u001b[0;34m.\u001b[0m\u001b[0maverage\u001b[0m\u001b[0;34m(\u001b[0m\u001b[0mraw_compensation\u001b[0m\u001b[0;34m[\u001b[0m\u001b[0;34m\"Total Pay\"\u001b[0m\u001b[0;34m]\u001b[0m\u001b[0;34m)\u001b[0m\u001b[0;34m\u001b[0m\u001b[0;34m\u001b[0m\u001b[0m\n\u001b[0m",
      "\u001b[0;32m<__array_function__ internals>\u001b[0m in \u001b[0;36maverage\u001b[0;34m(*args, **kwargs)\u001b[0m\n",
      "\u001b[0;32m/opt/anaconda3/lib/python3.9/site-packages/numpy/lib/function_base.py\u001b[0m in \u001b[0;36maverage\u001b[0;34m(a, axis, weights, returned)\u001b[0m\n\u001b[1;32m    378\u001b[0m \u001b[0;34m\u001b[0m\u001b[0m\n\u001b[1;32m    379\u001b[0m     \u001b[0;32mif\u001b[0m \u001b[0mweights\u001b[0m \u001b[0;32mis\u001b[0m \u001b[0;32mNone\u001b[0m\u001b[0;34m:\u001b[0m\u001b[0;34m\u001b[0m\u001b[0;34m\u001b[0m\u001b[0m\n\u001b[0;32m--> 380\u001b[0;31m         \u001b[0mavg\u001b[0m \u001b[0;34m=\u001b[0m \u001b[0ma\u001b[0m\u001b[0;34m.\u001b[0m\u001b[0mmean\u001b[0m\u001b[0;34m(\u001b[0m\u001b[0maxis\u001b[0m\u001b[0;34m)\u001b[0m\u001b[0;34m\u001b[0m\u001b[0;34m\u001b[0m\u001b[0m\n\u001b[0m\u001b[1;32m    381\u001b[0m         \u001b[0mscl\u001b[0m \u001b[0;34m=\u001b[0m \u001b[0mavg\u001b[0m\u001b[0;34m.\u001b[0m\u001b[0mdtype\u001b[0m\u001b[0;34m.\u001b[0m\u001b[0mtype\u001b[0m\u001b[0;34m(\u001b[0m\u001b[0ma\u001b[0m\u001b[0;34m.\u001b[0m\u001b[0msize\u001b[0m\u001b[0;34m/\u001b[0m\u001b[0mavg\u001b[0m\u001b[0;34m.\u001b[0m\u001b[0msize\u001b[0m\u001b[0;34m)\u001b[0m\u001b[0;34m\u001b[0m\u001b[0;34m\u001b[0m\u001b[0m\n\u001b[1;32m    382\u001b[0m     \u001b[0;32melse\u001b[0m\u001b[0;34m:\u001b[0m\u001b[0;34m\u001b[0m\u001b[0;34m\u001b[0m\u001b[0m\n",
      "\u001b[0;32m/opt/anaconda3/lib/python3.9/site-packages/numpy/core/_methods.py\u001b[0m in \u001b[0;36m_mean\u001b[0;34m(a, axis, dtype, out, keepdims, where)\u001b[0m\n\u001b[1;32m    188\u001b[0m             \u001b[0mret\u001b[0m \u001b[0;34m=\u001b[0m \u001b[0mret\u001b[0m\u001b[0;34m.\u001b[0m\u001b[0mdtype\u001b[0m\u001b[0;34m.\u001b[0m\u001b[0mtype\u001b[0m\u001b[0;34m(\u001b[0m\u001b[0mret\u001b[0m \u001b[0;34m/\u001b[0m \u001b[0mrcount\u001b[0m\u001b[0;34m)\u001b[0m\u001b[0;34m\u001b[0m\u001b[0;34m\u001b[0m\u001b[0m\n\u001b[1;32m    189\u001b[0m     \u001b[0;32melse\u001b[0m\u001b[0;34m:\u001b[0m\u001b[0;34m\u001b[0m\u001b[0;34m\u001b[0m\u001b[0m\n\u001b[0;32m--> 190\u001b[0;31m         \u001b[0mret\u001b[0m \u001b[0;34m=\u001b[0m \u001b[0mret\u001b[0m \u001b[0;34m/\u001b[0m \u001b[0mrcount\u001b[0m\u001b[0;34m\u001b[0m\u001b[0;34m\u001b[0m\u001b[0m\n\u001b[0m\u001b[1;32m    191\u001b[0m \u001b[0;34m\u001b[0m\u001b[0m\n\u001b[1;32m    192\u001b[0m     \u001b[0;32mreturn\u001b[0m \u001b[0mret\u001b[0m\u001b[0;34m\u001b[0m\u001b[0;34m\u001b[0m\u001b[0m\n",
      "\u001b[0;31mTypeError\u001b[0m: ufunc 'true_divide' not supported for the input types, and the inputs could not be safely coerced to any supported types according to the casting rule ''safe''"
     ]
    }
   ],
   "source": [
    "np.average(raw_compensation[\"Total Pay\"])"
   ]
  },
  {
   "cell_type": "markdown",
   "metadata": {},
   "source": [
    "You should see an error. Let's examine why this error occured by looking at the values in the \"Total Pay\" column. Use the `type` function and set `total_pay_type` to the type of the first value in the \"Total Pay\" column."
   ]
  },
  {
   "cell_type": "code",
   "execution_count": 4,
   "metadata": {},
   "outputs": [
    {
     "data": {
      "text/plain": [
       "str"
      ]
     },
     "execution_count": 4,
     "metadata": {},
     "output_type": "execute_result"
    }
   ],
   "source": [
    "total_pay_type = type(np.array(raw_compensation[\"Total Pay\"]).item(0))\n",
    "total_pay_type"
   ]
  },
  {
   "cell_type": "markdown",
   "metadata": {},
   "source": [
    "**Question 2.** You should have found that the values in \"Total Pay\" column are strings (text). It doesn't make sense to take the average of the text values, so we need to convert them to numbers if we want to do this. Extract the first value in the \"Total Pay\" column.  It's Mark Hurd's (CEO of Oracle inc.) pay in 2015, in *millions* of dollars.  Call it `mark_hurd_pay_string`."
   ]
  },
  {
   "cell_type": "code",
   "execution_count": 5,
   "metadata": {},
   "outputs": [
    {
     "data": {
      "text/plain": [
       "'$53.25 '"
      ]
     },
     "execution_count": 5,
     "metadata": {},
     "output_type": "execute_result"
    }
   ],
   "source": [
    "mark_hurd_pay_string = np.array(raw_compensation[\"Total Pay\"]).item(0)\n",
    "mark_hurd_pay_string"
   ]
  },
  {
   "cell_type": "markdown",
   "metadata": {},
   "source": [
    "**Question 3.** Convert `mark_hurd_pay_string` to a number of *dollars*.  The string method `strip` will be useful for removing the dollar sign; it removes a specified character from the start or end of a string.  For example, the value of `\"100%\".strip(\"%\")` is the string `\"100\"`.  You'll also need the function `float`, which converts a string that looks like a number to an actual number.  Last, remember that the answer should be in dollars, not millions of dollars."
   ]
  },
  {
   "cell_type": "code",
   "execution_count": 6,
   "metadata": {},
   "outputs": [
    {
     "data": {
      "text/plain": [
       "53250000.0"
      ]
     },
     "execution_count": 6,
     "metadata": {},
     "output_type": "execute_result"
    }
   ],
   "source": [
    "mark_hurd_pay = float(mark_hurd_pay_string.strip('$'))*1000000\n",
    "mark_hurd_pay"
   ]
  },
  {
   "cell_type": "markdown",
   "metadata": {},
   "source": [
    "To compute the average pay, we need to do this for every CEO.  But that looks like it would involve copying this code 102 times.\n",
    "\n",
    "This is where functions come in.  First, we'll define a new function, giving a name to the expression that converts \"total pay\" strings to numeric values.  Later in this lab we'll see the payoff: we can call that function on every pay string in the dataset at once.\n",
    "\n",
    "**Question 4.** Copy the expression you used to compute `mark_hurd_pay` as the `return` expression of the function below, but replace the specific `mark_hurd_pay_string` with the generic `pay_string` name specified in the first line of the `def` statement."
   ]
  },
  {
   "cell_type": "code",
   "execution_count": 7,
   "metadata": {
    "for_assignment_type": "student"
   },
   "outputs": [],
   "source": [
    "def convert_pay_string_to_number(pay_string):\n",
    "    \"\"\"Converts a pay string like '$100' (in millions) to a number of dollars.\"\"\"\n",
    "    return float(pay_string.strip('$'))*1000000"
   ]
  },
  {
   "cell_type": "markdown",
   "metadata": {},
   "source": [
    "Running that cell doesn't convert any particular pay string. Instead, it creates a function called `convert_pay_string_to_number` that can convert any string with the right format to a number representing millions of dollars.\n",
    "\n",
    "We can call our function just like we call the built-in functions we've seen. It takes one argument, a string, and it returns a number."
   ]
  },
  {
   "cell_type": "code",
   "execution_count": 8,
   "metadata": {},
   "outputs": [
    {
     "data": {
      "text/plain": [
       "42000000.0"
      ]
     },
     "execution_count": 8,
     "metadata": {},
     "output_type": "execute_result"
    }
   ],
   "source": [
    "convert_pay_string_to_number('$42')"
   ]
  },
  {
   "cell_type": "code",
   "execution_count": 9,
   "metadata": {},
   "outputs": [
    {
     "data": {
      "text/plain": [
       "53250000.0"
      ]
     },
     "execution_count": 9,
     "metadata": {},
     "output_type": "execute_result"
    }
   ],
   "source": [
    "convert_pay_string_to_number(mark_hurd_pay_string)"
   ]
  },
  {
   "cell_type": "code",
   "execution_count": 10,
   "metadata": {},
   "outputs": [
    {
     "data": {
      "text/plain": [
       "53240000.0"
      ]
     },
     "execution_count": 10,
     "metadata": {},
     "output_type": "execute_result"
    }
   ],
   "source": [
    "# We can also compute Safra Catz's (CFO or Oracle inc.) pay in the same way:\n",
    "convert_pay_string_to_number(np.array(raw_compensation[raw_compensation[\"Name\"].str.contains(\"Safra\")][\"Total Pay\"]).item(0))"
   ]
  },
  {
   "cell_type": "markdown",
   "metadata": {},
   "source": [
    "So, what have we gained by defining the `convert_pay_string_to_number` function? \n",
    "Well, without it, we'd have to copy that `10**6 * float(pay_string.strip(\"$\"))` stuff each time we wanted to convert a pay string.  Now we just call a function whose name says exactly what it's doing.\n",
    "\n",
    "Soon, we'll see how to apply this function to every pay string in a single expression. First, let's take a brief detour and introduce `interact`."
   ]
  },
  {
   "cell_type": "markdown",
   "metadata": {},
   "source": [
    "### Using `interact`\n",
    "\n",
    "We've included a nifty function called `interact` that allows you to\n",
    "call a function with different arguments.\n",
    "\n",
    "To use it, call `interact` with the function you want to interact with as the\n",
    "first argument, then specify a default value for each argument of the original\n",
    "function like so:"
   ]
  },
  {
   "cell_type": "code",
   "execution_count": 11,
   "metadata": {},
   "outputs": [
    {
     "data": {
      "application/vnd.jupyter.widget-view+json": {
       "model_id": "d11c179dd1874305a486cda4ac2107c3",
       "version_major": 2,
       "version_minor": 0
      },
      "text/plain": [
       "interactive(children=(Text(value='$42', description='pay_string'), Output()), _dom_classes=('widget-interact',…"
      ]
     },
     "metadata": {},
     "output_type": "display_data"
    }
   ],
   "source": [
    "_ = interact(convert_pay_string_to_number, pay_string='$42')"
   ]
  },
  {
   "cell_type": "markdown",
   "metadata": {},
   "source": [
    "You can now change the value in the textbox to automatically call\n",
    "`convert_pay_string_to_number` with the argument you enter in the `pay_string`\n",
    "textbox. For example, entering in `'$49'` in the textbox will display the result of\n",
    "running `convert_pay_string_to_number('$49')`. Neat!\n",
    "\n",
    "Note that we'll never ask you to write the `interact` function calls yourself as\n",
    "part of a question. However, we'll include it here and there where it's helpful\n",
    "and you'll probably find it useful to use yourself.\n",
    "\n",
    "Now, let's continue on and write more functions."
   ]
  },
  {
   "cell_type": "markdown",
   "metadata": {},
   "source": [
    "## 2. Defining functions\n",
    "\n",
    "Let's write a very simple function that converts a proportion to a percentage by multiplying it by 100.  For example, the value of `to_percentage(.5)` should be the number 50.  (No percent sign.)\n",
    "\n",
    "A function definition has a few parts.\n",
    "\n",
    "##### `def`\n",
    "It always starts with `def` (short for **def**ine):\n",
    "\n",
    "    def\n",
    "\n",
    "##### Name\n",
    "Next comes the name of the function.  Let's call our function `to_percentage`.\n",
    "    \n",
    "    def to_percentage\n",
    "\n",
    "##### Signature\n",
    "Next comes something called the *signature* of the function.  This tells Python how many arguments your function should have, and what names you'll use to refer to those arguments in the function's code.  `to_percentage` should take one argument, and we'll call that argument `proportion` since it should be a proportion.\n",
    "\n",
    "    def to_percentage(proportion)\n",
    "\n",
    "We put a colon after the signature to tell Python it's over.\n",
    "\n",
    "    def to_percentage(proportion):\n",
    "\n",
    "##### Documentation\n",
    "Functions can do complicated things, so you should write an explanation of what your function does.  For small functions, this is less important, but it's a good habit to learn from the start.  Conventionally, Python functions are documented by writing a triple-quoted string:\n",
    "\n",
    "    def to_percentage(proportion):\n",
    "        \"\"\"Converts a proportion to a percentage.\"\"\"\n",
    "    \n",
    "    \n",
    "##### Body\n",
    "Now we start writing code that runs when the function is called.  This is called the *body* of the function.  We can write anything we could write anywhere else.  First let's give a name to the number we multiply a proportion by to get a percentage.\n",
    "\n",
    "    def to_percentage(proportion):\n",
    "        \"\"\"Converts a proportion to a percentage.\"\"\"\n",
    "        factor = 100\n",
    "\n",
    "##### `return`\n",
    "The special instruction `return` in a function's body tells Python to make the value of the function call equal to whatever comes right after `return`.  We want the value of `to_percentage(.5)` to be the proportion .5 times the factor 100, so we write:\n",
    "\n",
    "    def to_percentage(proportion):\n",
    "        \"\"\"Converts a proportion to a percentage.\"\"\"\n",
    "        factor = 100\n",
    "        return proportion * factor"
   ]
  },
  {
   "cell_type": "markdown",
   "metadata": {},
   "source": [
    "**Question 1.** Define `to_percentage` in the cell below.  Call your function to convert the proportion .2 to a percentage.  Name that percentage `twenty_percent`."
   ]
  },
  {
   "cell_type": "code",
   "execution_count": 12,
   "metadata": {
    "for_assignment_type": "student"
   },
   "outputs": [
    {
     "data": {
      "text/plain": [
       "20.0"
      ]
     },
     "execution_count": 12,
     "metadata": {},
     "output_type": "execute_result"
    }
   ],
   "source": [
    "def to_percentage(proportion):\n",
    "    \"\"\"Converts a proportion to a percentage.\"\"\"\n",
    "    factor = 100\n",
    "    return proportion * factor\n",
    "\n",
    "twenty_percent = to_percentage(0.2)\n",
    "twenty_percent"
   ]
  },
  {
   "cell_type": "markdown",
   "metadata": {},
   "source": [
    "Like the built-in functions, you can use named values as arguments to your function.\n",
    "\n",
    "**Question 2.** Use `to_percentage` again to convert the proportion named `a_proportion` (defined below) to a percentage called `a_percentage`.\n",
    "\n",
    "*Note:* You don't need to define `to_percentage` again!  Just like other named things, functions stick around after you define them."
   ]
  },
  {
   "cell_type": "code",
   "execution_count": 13,
   "metadata": {},
   "outputs": [
    {
     "data": {
      "text/plain": [
       "70.71067811865476"
      ]
     },
     "execution_count": 13,
     "metadata": {},
     "output_type": "execute_result"
    }
   ],
   "source": [
    "a_proportion = 2**(.5) / 2\n",
    "a_percentage = to_percentage(a_proportion)\n",
    "a_percentage"
   ]
  },
  {
   "cell_type": "markdown",
   "metadata": {},
   "source": [
    "Here's something important about functions: the names assigned within a function body are only accessible within the function body. Once the function has returned, those names are gone.  So even though you defined `factor = 100` inside `to_percentage` above and then called `to_percentage`, you cannot refer to `factor` anywhere except inside the body of `to_percentage`:"
   ]
  },
  {
   "cell_type": "code",
   "execution_count": 14,
   "metadata": {},
   "outputs": [
    {
     "ename": "NameError",
     "evalue": "name 'factor' is not defined",
     "output_type": "error",
     "traceback": [
      "\u001b[0;31m---------------------------------------------------------------------------\u001b[0m",
      "\u001b[0;31mNameError\u001b[0m                                 Traceback (most recent call last)",
      "\u001b[0;32m/var/folders/cp/4l5cyd252gl8gyd90gw38swr0000gn/T/ipykernel_17109/4209832784.py\u001b[0m in \u001b[0;36m<module>\u001b[0;34m\u001b[0m\n\u001b[1;32m      1\u001b[0m \u001b[0;31m# You should see an error when you run this.  (If you don't, you might\u001b[0m\u001b[0;34m\u001b[0m\u001b[0;34m\u001b[0m\u001b[0m\n\u001b[1;32m      2\u001b[0m \u001b[0;31m# have defined factor somewhere above.)\u001b[0m\u001b[0;34m\u001b[0m\u001b[0;34m\u001b[0m\u001b[0m\n\u001b[0;32m----> 3\u001b[0;31m \u001b[0mfactor\u001b[0m\u001b[0;34m\u001b[0m\u001b[0;34m\u001b[0m\u001b[0m\n\u001b[0m",
      "\u001b[0;31mNameError\u001b[0m: name 'factor' is not defined"
     ]
    }
   ],
   "source": [
    "# You should see an error when you run this.  (If you don't, you might\n",
    "# have defined factor somewhere above.)\n",
    "factor"
   ]
  },
  {
   "cell_type": "markdown",
   "metadata": {},
   "source": [
    "As we've seen with the built-in functions, functions can also take strings (or arrays, or tables) as arguments, and they can return those things, too.\n",
    "\n",
    "**Question 3.** Define a function called `disemvowel`.  It should take a single string as its argument.  (You can call that argument whatever you want.)  It should return a copy of that string, but with all the characters that are vowels removed.  (In English, the vowels are the characters \"a\", \"e\", \"i\", \"o\", and \"u\".)\n",
    "\n",
    "*Hint:* To remove all the \"a\"s from a string, you can use `that_string.replace(\"a\", \"\")`.  And you can call `replace` multiple times."
   ]
  },
  {
   "cell_type": "code",
   "execution_count": 15,
   "metadata": {},
   "outputs": [
    {
     "data": {
      "text/plain": [
       "'Cn y rd ths wtht vwls?'"
      ]
     },
     "execution_count": 15,
     "metadata": {},
     "output_type": "execute_result"
    }
   ],
   "source": [
    "def disemvowel(a_string):\n",
    "    return a_string.replace(\"a\", \"\").replace(\"e\", \"\").replace(\"i\", \"\").replace(\"o\", \"\").replace(\"u\", \"\")\n",
    "\n",
    "# An example call to your function.  (It's often helpful to run\n",
    "# an example call from time to time while you're writing a function,\n",
    "# to see how it currently works.)\n",
    "disemvowel(\"Can you read this without vowels?\")"
   ]
  },
  {
   "cell_type": "code",
   "execution_count": 16,
   "metadata": {},
   "outputs": [
    {
     "data": {
      "application/vnd.jupyter.widget-view+json": {
       "model_id": "022417b8c8fb492fae535c3430ef939b",
       "version_major": 2,
       "version_minor": 0
      },
      "text/plain": [
       "interactive(children=(Text(value='Hello world', description='a_string'), Output()), _dom_classes=('widget-inte…"
      ]
     },
     "metadata": {},
     "output_type": "display_data"
    }
   ],
   "source": [
    "# Alternatively, you can use interact to call your function\n",
    "_ = interact(disemvowel, a_string='Hello world')"
   ]
  },
  {
   "cell_type": "markdown",
   "metadata": {},
   "source": [
    "##### Calls on calls on calls\n",
    "Just as you write a series of lines to build up a complex computation, it's useful to define a series of small functions that build on each other.  Since you can write any code inside a function's body, you can call other functions you've written.\n",
    "\n",
    "If a function is a like a recipe, defining a function in terms of other functions is like having a recipe for cake telling you to follow another recipe to make the frosting, and another to make the sprinkles.  This makes the cake recipe shorter and clearer, and it avoids having a bunch of duplicated frosting recipes.  It's a foundation of productive programming.\n",
    "\n",
    "For example, suppose you want to count the number of characters *that aren't vowels* in a piece of text.  One way to do that is this to remove all the vowels and count the size of the remaining string.\n",
    "\n",
    "**Question 4.** Write a function called `num_non_vowels`.  It should take a string as its argument and return a number.  The number should be the number of characters in the argument string that aren't vowels.\n",
    "\n",
    "*Hint:* The function `len` takes a string as its argument and returns the number of characters in it."
   ]
  },
  {
   "cell_type": "code",
   "execution_count": 17,
   "metadata": {},
   "outputs": [
    {
     "data": {
      "application/vnd.jupyter.widget-view+json": {
       "model_id": "1d385448cf604c2b9c97ec8d8d9bed10",
       "version_major": 2,
       "version_minor": 0
      },
      "text/plain": [
       "interactive(children=(Text(value='Hello world', description='a_string'), Output()), _dom_classes=('widget-inte…"
      ]
     },
     "metadata": {},
     "output_type": "display_data"
    }
   ],
   "source": [
    "def num_non_vowels(a_string):\n",
    "    \"\"\"The number of characters in a string, minus the vowels.\"\"\"\n",
    "    return len(disemvowel(a_string))\n",
    "\n",
    "# Try calling your function yourself to make sure the output is what\n",
    "# you expect. You can also use the interact function if you'd like.\n",
    "_ = interact(num_non_vowels, a_string='Hello world')"
   ]
  },
  {
   "cell_type": "markdown",
   "metadata": {},
   "source": [
    "Functions can also encapsulate code that *does things* rather than just computing values.  For example, if you call `print` inside a function, and then call that function, something will get printed.\n",
    "\n",
    "The `movies_by_year` dataset in the textbook has information about movie sales in recent years.  Suppose you'd like to display the year with the 5th-highest total gross movie sales, printed in a human-readable way.  You might do this:"
   ]
  },
  {
   "cell_type": "code",
   "execution_count": 18,
   "metadata": {},
   "outputs": [
    {
     "name": "stdout",
     "output_type": "stream",
     "text": [
      "Year number 5 for total gross movie sales was: 2010\n"
     ]
    }
   ],
   "source": [
    "movies_by_year = pd.read_csv(\"movies_by_year.csv\")\n",
    "rank = 5\n",
    "fifth_from_top_movie_year = np.array(movies_by_year.sort_values(by=\"Total Gross\", ascending=False)[\"Year\"]).item(rank-1)\n",
    "print(\"Year number\", rank, \"for total gross movie sales was:\", fifth_from_top_movie_year)"
   ]
  },
  {
   "cell_type": "markdown",
   "metadata": {},
   "source": [
    "After writing this, you realize you also wanted to print out the 2nd and 3rd-highest years.  Instead of copying your code, you decide to put it in a function.  Since the rank varies, you make that an argument to your function.\n",
    "\n",
    "**Question 5.** Write a function called `print_kth_top_movie_year`.  It should take a single argument, the rank of the year (like 2, 3, or 5 in the above examples).  It should print out a message like the one above.  It shouldn't have a `return` statement."
   ]
  },
  {
   "cell_type": "code",
   "execution_count": 45,
   "metadata": {
    "for_assignment_type": "student"
   },
   "outputs": [
    {
     "name": "stdout",
     "output_type": "stream",
     "text": [
      "The year that was ranked number 2 for total gross movie sales was: 2013\n",
      "The year that was ranked number 3 for total gross movie sales was: 2012\n"
     ]
    }
   ],
   "source": [
    "def print_kth_top_movie_year(k):\n",
    "    # Our solution used 2 lines.\n",
    "    year_with_rank = np.array(movies_by_year.sort_values(by=\"Total Gross\", ascending=False)[\"Year\"]).item(k-1)\n",
    "    print(\"The year that was ranked number\", k, \"for total gross movie sales was:\", year_with_rank)\n",
    "\n",
    "# Example calls to your function:\n",
    "print_kth_top_movie_year(2)\n",
    "print_kth_top_movie_year(3)"
   ]
  },
  {
   "cell_type": "code",
   "execution_count": 46,
   "metadata": {},
   "outputs": [
    {
     "data": {
      "application/vnd.jupyter.widget-view+json": {
       "model_id": "c657cfc957bb4c7dbe85412f67101553",
       "version_major": 2,
       "version_minor": 0
      },
      "text/plain": [
       "interactive(children=(Dropdown(description='k', options=(1, 2, 3, 4, 5, 6, 7, 8, 9), value=1), Output()), _dom…"
      ]
     },
     "metadata": {},
     "output_type": "display_data"
    }
   ],
   "source": [
    "# interact also allows you to pass in an array for a function argument. It will\n",
    "# then present a dropdown menu of options.\n",
    "_ = interact(print_kth_top_movie_year, k=np.arange(1, 10))"
   ]
  },
  {
   "cell_type": "markdown",
   "metadata": {},
   "source": [
    "## 3. `apply`ing functions\n",
    "\n",
    "Defining a function is a lot like giving a name to a value with `=`.  In fact, a function is a value just like the number 1 or the text \"the\"!\n",
    "\n",
    "For example, we can make a new name for the built-in function `max` if we want:"
   ]
  },
  {
   "cell_type": "code",
   "execution_count": 21,
   "metadata": {},
   "outputs": [
    {
     "data": {
      "text/plain": [
       "6"
      ]
     },
     "execution_count": 21,
     "metadata": {},
     "output_type": "execute_result"
    }
   ],
   "source": [
    "our_name_for_max = max\n",
    "our_name_for_max(2, 6)"
   ]
  },
  {
   "cell_type": "markdown",
   "metadata": {},
   "source": [
    "The old name for `max` is still around:"
   ]
  },
  {
   "cell_type": "code",
   "execution_count": 22,
   "metadata": {},
   "outputs": [
    {
     "data": {
      "text/plain": [
       "6"
      ]
     },
     "execution_count": 22,
     "metadata": {},
     "output_type": "execute_result"
    }
   ],
   "source": [
    "max(2, 6)"
   ]
  },
  {
   "cell_type": "markdown",
   "metadata": {},
   "source": [
    "Try just writing `max` or `our_name_for_max` (or the name of any other function) in a cell, and run that cell.  Python will print out a (very brief) description of the function."
   ]
  },
  {
   "cell_type": "code",
   "execution_count": 23,
   "metadata": {},
   "outputs": [
    {
     "data": {
      "text/plain": [
       "<function max>"
      ]
     },
     "execution_count": 23,
     "metadata": {},
     "output_type": "execute_result"
    }
   ],
   "source": [
    "max"
   ]
  },
  {
   "cell_type": "markdown",
   "metadata": {},
   "source": [
    "Why is this useful?  Since functions are just values, it's possible to pass them as arguments to other functions.  Here's a simple but not-so-practical example: we can make an array of functions."
   ]
  },
  {
   "cell_type": "code",
   "execution_count": 24,
   "metadata": {},
   "outputs": [
    {
     "data": {
      "text/plain": [
       "array([<built-in function max>, <function average at 0x7f97f1e56a60>,\n",
       "       <ufunc 'equal'>], dtype=object)"
      ]
     },
     "execution_count": 24,
     "metadata": {},
     "output_type": "execute_result"
    }
   ],
   "source": [
    "np.array([max, np.average, np.equal])"
   ]
  },
  {
   "cell_type": "markdown",
   "metadata": {},
   "source": [
    "**Question 1.** Make an array containing any 3 other functions you've seen.  Call it `some_functions`."
   ]
  },
  {
   "cell_type": "code",
   "execution_count": 25,
   "metadata": {},
   "outputs": [
    {
     "name": "stdout",
     "output_type": "stream",
     "text": [
      "The year that was ranked number 3 for total gross movie sales was: 2012\n"
     ]
    },
    {
     "data": {
      "text/plain": [
       "[<function max>, 4, None]"
      ]
     },
     "execution_count": 25,
     "metadata": {},
     "output_type": "execute_result"
    }
   ],
   "source": [
    "some_functions = [max, len(\"Test\"), print_kth_top_movie_year(3)]\n",
    "some_functions"
   ]
  },
  {
   "cell_type": "markdown",
   "metadata": {},
   "source": [
    "Working with functions as values can lead to some funny-looking code.  For example, see if you can figure out why this works:"
   ]
  },
  {
   "cell_type": "code",
   "execution_count": 26,
   "metadata": {},
   "outputs": [
    {
     "data": {
      "text/plain": [
       "7"
      ]
     },
     "execution_count": 26,
     "metadata": {},
     "output_type": "execute_result"
    }
   ],
   "source": [
    "np.array([max, np.average, np.equal]).item(0)(4, -2, 7)"
   ]
  },
  {
   "cell_type": "markdown",
   "metadata": {},
   "source": [
    "Here's a simpler example that's actually useful: the table method `apply`.\n",
    "\n",
    "`apply` calls a function many times, once on *each* element in a column of a table.  It produces an array of the results.  Here we use `apply` to convert every CEO's pay to a number, using the function you defined:"
   ]
  },
  {
   "cell_type": "code",
   "execution_count": 27,
   "metadata": {},
   "outputs": [
    {
     "data": {
      "text/plain": [
       "0      53250000.0\n",
       "1      53240000.0\n",
       "2      44910000.0\n",
       "3      35980000.0\n",
       "4      33360000.0\n",
       "          ...    \n",
       "97       940000.0\n",
       "98       810000.0\n",
       "99        70000.0\n",
       "100       40000.0\n",
       "101           0.0\n",
       "Name: Total Pay, Length: 102, dtype: float64"
      ]
     },
     "execution_count": 27,
     "metadata": {},
     "output_type": "execute_result"
    }
   ],
   "source": [
    "raw_compensation[\"Total Pay\"].apply(convert_pay_string_to_number)"
   ]
  },
  {
   "cell_type": "markdown",
   "metadata": {},
   "source": [
    "Here's an illustration of what that did:\n",
    "\n",
    "<img src=\"images/apply.png\"/>\n",
    "\n",
    "Note that we didn't write something like `convert_pay_string_to_number()` or `convert_pay_string_to_number(\"Total Pay\")`.  The job of `apply` is to call the function we give it, so instead of calling `convert_pay_string_to_number` ourselves, we just write its name as an argument to `apply`.\n",
    "\n",
    "**Question 2.** Using `apply`, make a table that's a copy of `raw_compensation` with one more column called \"Total Pay (\\$)\".  It should be the result of applying `convert_pay_string_to_number` to the \"Total Pay\" column, as we did above.  Call the new table `compensation`."
   ]
  },
  {
   "cell_type": "code",
   "execution_count": 38,
   "metadata": {},
   "outputs": [
    {
     "data": {
      "text/html": [
       "<div>\n",
       "<style scoped>\n",
       "    .dataframe tbody tr th:only-of-type {\n",
       "        vertical-align: middle;\n",
       "    }\n",
       "\n",
       "    .dataframe tbody tr th {\n",
       "        vertical-align: top;\n",
       "    }\n",
       "\n",
       "    .dataframe thead th {\n",
       "        text-align: right;\n",
       "    }\n",
       "</style>\n",
       "<table border=\"1\" class=\"dataframe\">\n",
       "  <thead>\n",
       "    <tr style=\"text-align: right;\">\n",
       "      <th></th>\n",
       "      <th>Rank</th>\n",
       "      <th>Name</th>\n",
       "      <th>Company (Headquarters)</th>\n",
       "      <th>Total Pay</th>\n",
       "      <th>% Change</th>\n",
       "      <th>Cash Pay</th>\n",
       "      <th>Equity Pay</th>\n",
       "      <th>Other Pay</th>\n",
       "      <th>Ratio of CEO pay to average industry worker pay</th>\n",
       "      <th>Total Pay ($)</th>\n",
       "    </tr>\n",
       "  </thead>\n",
       "  <tbody>\n",
       "    <tr>\n",
       "      <th>0</th>\n",
       "      <td>1</td>\n",
       "      <td>Mark V. Hurd*</td>\n",
       "      <td>Oracle (Redwood City)</td>\n",
       "      <td>$53.25</td>\n",
       "      <td>(No previous year)</td>\n",
       "      <td>$0.95</td>\n",
       "      <td>$52.27</td>\n",
       "      <td>$0.02</td>\n",
       "      <td>362.00000</td>\n",
       "      <td>53250000.0</td>\n",
       "    </tr>\n",
       "    <tr>\n",
       "      <th>1</th>\n",
       "      <td>2</td>\n",
       "      <td>Safra A. Catz*</td>\n",
       "      <td>Oracle (Redwood City)</td>\n",
       "      <td>$53.24</td>\n",
       "      <td>(No previous year)</td>\n",
       "      <td>$0.95</td>\n",
       "      <td>$52.27</td>\n",
       "      <td>$0.02</td>\n",
       "      <td>362.00000</td>\n",
       "      <td>53240000.0</td>\n",
       "    </tr>\n",
       "    <tr>\n",
       "      <th>2</th>\n",
       "      <td>3</td>\n",
       "      <td>Robert A. Iger</td>\n",
       "      <td>Walt Disney (Burbank)</td>\n",
       "      <td>$44.91</td>\n",
       "      <td>-3%</td>\n",
       "      <td>$24.89</td>\n",
       "      <td>$17.28</td>\n",
       "      <td>$2.74</td>\n",
       "      <td>477.00000</td>\n",
       "      <td>44910000.0</td>\n",
       "    </tr>\n",
       "    <tr>\n",
       "      <th>3</th>\n",
       "      <td>4</td>\n",
       "      <td>Marissa A. Mayer</td>\n",
       "      <td>Yahoo! (Sunnyvale)</td>\n",
       "      <td>$35.98</td>\n",
       "      <td>-15%</td>\n",
       "      <td>$1.00</td>\n",
       "      <td>$34.43</td>\n",
       "      <td>$0.55</td>\n",
       "      <td>342.00000</td>\n",
       "      <td>35980000.0</td>\n",
       "    </tr>\n",
       "    <tr>\n",
       "      <th>4</th>\n",
       "      <td>5</td>\n",
       "      <td>Marc Benioff</td>\n",
       "      <td>salesforce.com (San Francisco)</td>\n",
       "      <td>$33.36</td>\n",
       "      <td>-16%</td>\n",
       "      <td>$4.65</td>\n",
       "      <td>$27.26</td>\n",
       "      <td>$1.45</td>\n",
       "      <td>338.00000</td>\n",
       "      <td>33360000.0</td>\n",
       "    </tr>\n",
       "    <tr>\n",
       "      <th>...</th>\n",
       "      <td>...</td>\n",
       "      <td>...</td>\n",
       "      <td>...</td>\n",
       "      <td>...</td>\n",
       "      <td>...</td>\n",
       "      <td>...</td>\n",
       "      <td>...</td>\n",
       "      <td>...</td>\n",
       "      <td>...</td>\n",
       "      <td>...</td>\n",
       "    </tr>\n",
       "    <tr>\n",
       "      <th>97</th>\n",
       "      <td>98</td>\n",
       "      <td>Gregory N. Roberts</td>\n",
       "      <td>A-Mark Precious Metals (Santa Monica)</td>\n",
       "      <td>$0.94</td>\n",
       "      <td>-11%</td>\n",
       "      <td>$0.93</td>\n",
       "      <td>$0.00</td>\n",
       "      <td>$0.02</td>\n",
       "      <td>17.00000</td>\n",
       "      <td>940000.0</td>\n",
       "    </tr>\n",
       "    <tr>\n",
       "      <th>98</th>\n",
       "      <td>99</td>\n",
       "      <td>Jose L. Laparte</td>\n",
       "      <td>PriceSmart (San Diego)</td>\n",
       "      <td>$0.81</td>\n",
       "      <td>-7%</td>\n",
       "      <td>$0.71</td>\n",
       "      <td>$0.00</td>\n",
       "      <td>$0.10</td>\n",
       "      <td>32.00000</td>\n",
       "      <td>810000.0</td>\n",
       "    </tr>\n",
       "    <tr>\n",
       "      <th>99</th>\n",
       "      <td>100</td>\n",
       "      <td>Jack Dorsey</td>\n",
       "      <td>Twitter (San Francisco)</td>\n",
       "      <td>$0.07</td>\n",
       "      <td>(No previous year)</td>\n",
       "      <td>$0.00</td>\n",
       "      <td>$0.00</td>\n",
       "      <td>$0.07</td>\n",
       "      <td>0.63000</td>\n",
       "      <td>70000.0</td>\n",
       "    </tr>\n",
       "    <tr>\n",
       "      <th>100</th>\n",
       "      <td>101</td>\n",
       "      <td>Elon R. Musk</td>\n",
       "      <td>Tesla Motors (Palo Alto)</td>\n",
       "      <td>$0.04</td>\n",
       "      <td>6%</td>\n",
       "      <td>$0.04</td>\n",
       "      <td>$0.00</td>\n",
       "      <td>$0.00</td>\n",
       "      <td>0.46000</td>\n",
       "      <td>40000.0</td>\n",
       "    </tr>\n",
       "    <tr>\n",
       "      <th>101</th>\n",
       "      <td>102</td>\n",
       "      <td>Lawrence Page***</td>\n",
       "      <td>Alphabet (Mountain View)</td>\n",
       "      <td>$0.00</td>\n",
       "      <td>0%</td>\n",
       "      <td>$0.00</td>\n",
       "      <td>$0.00</td>\n",
       "      <td>$0.00</td>\n",
       "      <td>0.00001</td>\n",
       "      <td>0.0</td>\n",
       "    </tr>\n",
       "  </tbody>\n",
       "</table>\n",
       "<p>102 rows × 10 columns</p>\n",
       "</div>"
      ],
      "text/plain": [
       "     Rank                Name                 Company (Headquarters)  \\\n",
       "0       1       Mark V. Hurd*                  Oracle (Redwood City)   \n",
       "1       2      Safra A. Catz*                  Oracle (Redwood City)   \n",
       "2       3      Robert A. Iger                  Walt Disney (Burbank)   \n",
       "3       4    Marissa A. Mayer                     Yahoo! (Sunnyvale)   \n",
       "4       5        Marc Benioff         salesforce.com (San Francisco)   \n",
       "..    ...                 ...                                    ...   \n",
       "97     98  Gregory N. Roberts  A-Mark Precious Metals (Santa Monica)   \n",
       "98     99     Jose L. Laparte                 PriceSmart (San Diego)   \n",
       "99    100         Jack Dorsey                Twitter (San Francisco)   \n",
       "100   101        Elon R. Musk               Tesla Motors (Palo Alto)   \n",
       "101   102    Lawrence Page***               Alphabet (Mountain View)   \n",
       "\n",
       "    Total Pay            % Change Cash Pay Equity Pay Other Pay  \\\n",
       "0     $53.25   (No previous year)   $0.95     $52.27     $0.02    \n",
       "1     $53.24   (No previous year)   $0.95     $52.27     $0.02    \n",
       "2     $44.91                  -3%  $24.89     $17.28     $2.74    \n",
       "3     $35.98                 -15%   $1.00     $34.43     $0.55    \n",
       "4     $33.36                 -16%   $4.65     $27.26     $1.45    \n",
       "..        ...                 ...      ...        ...       ...   \n",
       "97     $0.94                 -11%   $0.93      $0.00     $0.02    \n",
       "98     $0.81                  -7%   $0.71      $0.00     $0.10    \n",
       "99     $0.07   (No previous year)   $0.00      $0.00     $0.07    \n",
       "100    $0.04                   6%   $0.04      $0.00     $0.00    \n",
       "101    $0.00                   0%   $0.00      $0.00     $0.00    \n",
       "\n",
       "     Ratio of CEO pay to average industry worker pay  Total Pay ($)  \n",
       "0                                          362.00000     53250000.0  \n",
       "1                                          362.00000     53240000.0  \n",
       "2                                          477.00000     44910000.0  \n",
       "3                                          342.00000     35980000.0  \n",
       "4                                          338.00000     33360000.0  \n",
       "..                                               ...            ...  \n",
       "97                                          17.00000       940000.0  \n",
       "98                                          32.00000       810000.0  \n",
       "99                                           0.63000        70000.0  \n",
       "100                                          0.46000        40000.0  \n",
       "101                                          0.00001            0.0  \n",
       "\n",
       "[102 rows x 10 columns]"
      ]
     },
     "execution_count": 38,
     "metadata": {},
     "output_type": "execute_result"
    }
   ],
   "source": [
    "raw_compensation[\"Total Pay ($)\"] = raw_compensation[\"Total Pay\"].apply(convert_pay_string_to_number)\n",
    "compensation = raw_compensation\n",
    "compensation"
   ]
  },
  {
   "cell_type": "markdown",
   "metadata": {},
   "source": [
    "Now that we have the pay in numbers, we can compute things about them.\n",
    "\n",
    "**Question 3.** Compute the average total pay of the CEOs in the dataset."
   ]
  },
  {
   "cell_type": "code",
   "execution_count": 39,
   "metadata": {},
   "outputs": [
    {
     "data": {
      "text/plain": [
       "11445294.11764706"
      ]
     },
     "execution_count": 39,
     "metadata": {},
     "output_type": "execute_result"
    }
   ],
   "source": [
    "average_total_pay = compensation[\"Total Pay ($)\"].mean()\n",
    "average_total_pay"
   ]
  },
  {
   "cell_type": "markdown",
   "metadata": {},
   "source": [
    "**Question 4.** Companies pay executives in a variety of ways: directly in cash; by granting stock or other \"equity\" in the company; or with ancillary benefits (like private jets).  Compute the proportion of each CEO's pay that was cash.  (Your answer should be an array of numbers, one for each CEO in the dataset.)"
   ]
  },
  {
   "cell_type": "code",
   "execution_count": 40,
   "metadata": {},
   "outputs": [
    {
     "data": {
      "text/plain": [
       "['1.78%',\n",
       " '1.78%',\n",
       " '55.42%',\n",
       " '2.78%',\n",
       " '13.94%',\n",
       " '48.71%',\n",
       " '19.56%',\n",
       " '12.44%',\n",
       " '25.99%',\n",
       " '35.2%',\n",
       " '30.76%',\n",
       " '22.14%',\n",
       " '13.13%',\n",
       " '17.08%',\n",
       " '23.1%',\n",
       " '6.73%',\n",
       " '13.04%',\n",
       " '28.0%',\n",
       " '33.23%',\n",
       " '15.36%',\n",
       " '29.34%',\n",
       " '21.83%',\n",
       " '31.1%',\n",
       " '25.09%',\n",
       " '22.99%',\n",
       " '16.99%',\n",
       " '31.8%',\n",
       " '26.19%',\n",
       " '28.36%',\n",
       " '15.65%',\n",
       " '38.17%',\n",
       " '28.93%',\n",
       " '20.36%',\n",
       " '47.65%',\n",
       " '45.64%',\n",
       " '36.4%',\n",
       " '21.78%',\n",
       " '24.76%',\n",
       " '42.56%',\n",
       " '26.1%',\n",
       " '18.36%',\n",
       " '14.45%',\n",
       " '33.33%',\n",
       " '10.83%',\n",
       " '20.93%',\n",
       " '97.28%',\n",
       " '22.98%',\n",
       " '22.79%',\n",
       " '37.89%',\n",
       " '25.18%',\n",
       " '73.9%',\n",
       " '37.02%',\n",
       " '24.13%',\n",
       " '21.34%',\n",
       " '20.55%',\n",
       " '23.32%',\n",
       " '33.66%',\n",
       " '38.76%',\n",
       " '56.09%',\n",
       " '11.76%',\n",
       " '35.24%',\n",
       " '24.46%',\n",
       " '25.0%',\n",
       " '23.71%',\n",
       " '43.38%',\n",
       " '31.42%',\n",
       " '46.36%',\n",
       " '32.59%',\n",
       " '24.77%',\n",
       " '98.76%',\n",
       " '27.18%',\n",
       " '96.21%',\n",
       " '31.83%',\n",
       " '81.98%',\n",
       " '23.8%',\n",
       " '17.53%',\n",
       " '21.17%',\n",
       " '37.16%',\n",
       " '27.29%',\n",
       " '26.99%',\n",
       " '55.15%',\n",
       " '35.98%',\n",
       " '0%',\n",
       " '47.15%',\n",
       " '47.15%',\n",
       " '29.75%',\n",
       " '16.24%',\n",
       " '48.53%',\n",
       " '46.82%',\n",
       " '32.53%',\n",
       " '98.96%',\n",
       " '61.13%',\n",
       " '67.02%',\n",
       " '75.51%',\n",
       " '50.84%',\n",
       " '98.81%',\n",
       " '98.04%',\n",
       " '98.94%',\n",
       " '87.65%',\n",
       " '0%',\n",
       " '100.0%',\n",
       " '0%']"
      ]
     },
     "execution_count": 40,
     "metadata": {},
     "output_type": "execute_result"
    }
   ],
   "source": [
    "def percentage_of_pay_is_cash(_cash_pay, _total_pay):\n",
    "    cash_pay = convert_pay_string_to_number(_cash_pay)\n",
    "    total_pay = convert_pay_string_to_number(_total_pay)\n",
    "    if cash_pay > 0:\n",
    "        return round(to_percentage(cash_pay / total_pay), 2)\n",
    "    else:\n",
    "        return 0\n",
    "    \n",
    "cash_proportion = []\n",
    "\n",
    "for index, row in raw_compensation.iterrows():\n",
    "    proportion = str(percentage_of_pay_is_cash(row['Cash Pay'], row['Total Pay'])) + \"%\"\n",
    "    cash_proportion.append(proportion)\n",
    "\n",
    "cash_proportion"
   ]
  },
  {
   "cell_type": "markdown",
   "metadata": {},
   "source": [
    "Check out the \"% Change\" column in `compensation`.  It shows the percentage increase in the CEO's pay from the previous year.  For CEOs with no previous year on record, it instead says \"(No previous year)\".  The values in this column are *strings*, not numbers, so like the \"Total Pay\" column, it's not usable without a bit of extra work.\n",
    "\n",
    "Given your current pay and the percentage increase from the previous year, you can compute your previous year's pay.  For example, if your pay is \\$100 this year, and that's an increase of 50% from the previous year, then your previous year's pay was $\\frac{\\$100}{1 + \\frac{50}{100}}$, or around \\$66.66.\n",
    "\n",
    "**Question 5.** Create a new table called `with_previous_compensation`.  It should be a copy of `compensation`, but with the \"(No previous year)\" CEOs filtered out, and with an extra column called \"2014 Total Pay ($)\".  That column should have each CEO's pay in 2014.\n",
    "\n",
    "*Hint:* This question takes several steps, but each one is still something you've seen before.  Take it one step at a time, using as many lines as you need.  You can print out your results after each step to make sure you're on the right track.\n",
    "\n",
    "*Hint 2:* You'll need to define a function.  You can do that just above your other code."
   ]
  },
  {
   "cell_type": "code",
   "execution_count": 31,
   "metadata": {
    "for_assignment_type": "student"
   },
   "outputs": [
    {
     "name": "stderr",
     "output_type": "stream",
     "text": [
      "/var/folders/cp/4l5cyd252gl8gyd90gw38swr0000gn/T/ipykernel_17109/282069711.py:20: SettingWithCopyWarning: \n",
      "A value is trying to be set on a copy of a slice from a DataFrame.\n",
      "Try using .loc[row_indexer,col_indexer] = value instead\n",
      "\n",
      "See the caveats in the documentation: https://pandas.pydata.org/pandas-docs/stable/user_guide/indexing.html#returning-a-view-versus-a-copy\n",
      "  with_previous_compensation[\"2014 Total Pay ($)\"] = with_previous_compensation.apply(calculate_previous_compensation, axis=1)\n"
     ]
    },
    {
     "data": {
      "text/html": [
       "<div>\n",
       "<style scoped>\n",
       "    .dataframe tbody tr th:only-of-type {\n",
       "        vertical-align: middle;\n",
       "    }\n",
       "\n",
       "    .dataframe tbody tr th {\n",
       "        vertical-align: top;\n",
       "    }\n",
       "\n",
       "    .dataframe thead th {\n",
       "        text-align: right;\n",
       "    }\n",
       "</style>\n",
       "<table border=\"1\" class=\"dataframe\">\n",
       "  <thead>\n",
       "    <tr style=\"text-align: right;\">\n",
       "      <th></th>\n",
       "      <th>Rank</th>\n",
       "      <th>Name</th>\n",
       "      <th>Company (Headquarters)</th>\n",
       "      <th>Total Pay</th>\n",
       "      <th>% Change</th>\n",
       "      <th>Cash Pay</th>\n",
       "      <th>2014 Total Pay ($)</th>\n",
       "      <th>Equity Pay</th>\n",
       "      <th>Other Pay</th>\n",
       "      <th>Ratio of CEO pay to average industry worker pay</th>\n",
       "      <th>Total Pay ($)</th>\n",
       "    </tr>\n",
       "  </thead>\n",
       "  <tbody>\n",
       "    <tr>\n",
       "      <th>2</th>\n",
       "      <td>3</td>\n",
       "      <td>Robert A. Iger</td>\n",
       "      <td>Walt Disney (Burbank)</td>\n",
       "      <td>$44.91</td>\n",
       "      <td>-3%</td>\n",
       "      <td>$24.89</td>\n",
       "      <td>43.56</td>\n",
       "      <td>$17.28</td>\n",
       "      <td>$2.74</td>\n",
       "      <td>477.00000</td>\n",
       "      <td>44910000.0</td>\n",
       "    </tr>\n",
       "    <tr>\n",
       "      <th>3</th>\n",
       "      <td>4</td>\n",
       "      <td>Marissa A. Mayer</td>\n",
       "      <td>Yahoo! (Sunnyvale)</td>\n",
       "      <td>$35.98</td>\n",
       "      <td>-15%</td>\n",
       "      <td>$1.00</td>\n",
       "      <td>30.58</td>\n",
       "      <td>$34.43</td>\n",
       "      <td>$0.55</td>\n",
       "      <td>342.00000</td>\n",
       "      <td>35980000.0</td>\n",
       "    </tr>\n",
       "    <tr>\n",
       "      <th>4</th>\n",
       "      <td>5</td>\n",
       "      <td>Marc Benioff</td>\n",
       "      <td>salesforce.com (San Francisco)</td>\n",
       "      <td>$33.36</td>\n",
       "      <td>-16%</td>\n",
       "      <td>$4.65</td>\n",
       "      <td>28.02</td>\n",
       "      <td>$27.26</td>\n",
       "      <td>$1.45</td>\n",
       "      <td>338.00000</td>\n",
       "      <td>33360000.0</td>\n",
       "    </tr>\n",
       "    <tr>\n",
       "      <th>5</th>\n",
       "      <td>6</td>\n",
       "      <td>John H. Hammergren</td>\n",
       "      <td>McKesson (San Francisco)</td>\n",
       "      <td>$24.84</td>\n",
       "      <td>-4%</td>\n",
       "      <td>$12.10</td>\n",
       "      <td>23.85</td>\n",
       "      <td>$12.37</td>\n",
       "      <td>$0.37</td>\n",
       "      <td>222.00000</td>\n",
       "      <td>24840000.0</td>\n",
       "    </tr>\n",
       "    <tr>\n",
       "      <th>6</th>\n",
       "      <td>7</td>\n",
       "      <td>John S. Watson</td>\n",
       "      <td>Chevron (San Ramon)</td>\n",
       "      <td>$22.04</td>\n",
       "      <td>-15%</td>\n",
       "      <td>$4.31</td>\n",
       "      <td>18.73</td>\n",
       "      <td>$14.68</td>\n",
       "      <td>$3.05</td>\n",
       "      <td>183.00000</td>\n",
       "      <td>22040000.0</td>\n",
       "    </tr>\n",
       "    <tr>\n",
       "      <th>...</th>\n",
       "      <td>...</td>\n",
       "      <td>...</td>\n",
       "      <td>...</td>\n",
       "      <td>...</td>\n",
       "      <td>...</td>\n",
       "      <td>...</td>\n",
       "      <td>...</td>\n",
       "      <td>...</td>\n",
       "      <td>...</td>\n",
       "      <td>...</td>\n",
       "      <td>...</td>\n",
       "    </tr>\n",
       "    <tr>\n",
       "      <th>96</th>\n",
       "      <td>97</td>\n",
       "      <td>David G. Hirz</td>\n",
       "      <td>Smartæ&amp; Final Stores (Commerce)</td>\n",
       "      <td>$1.53</td>\n",
       "      <td>-66%</td>\n",
       "      <td>$1.50</td>\n",
       "      <td>0.52</td>\n",
       "      <td>$0.00</td>\n",
       "      <td>$0.04</td>\n",
       "      <td>26.00000</td>\n",
       "      <td>1530000.0</td>\n",
       "    </tr>\n",
       "    <tr>\n",
       "      <th>97</th>\n",
       "      <td>98</td>\n",
       "      <td>Gregory N. Roberts</td>\n",
       "      <td>A-Mark Precious Metals (Santa Monica)</td>\n",
       "      <td>$0.94</td>\n",
       "      <td>-11%</td>\n",
       "      <td>$0.93</td>\n",
       "      <td>0.84</td>\n",
       "      <td>$0.00</td>\n",
       "      <td>$0.02</td>\n",
       "      <td>17.00000</td>\n",
       "      <td>940000.0</td>\n",
       "    </tr>\n",
       "    <tr>\n",
       "      <th>98</th>\n",
       "      <td>99</td>\n",
       "      <td>Jose L. Laparte</td>\n",
       "      <td>PriceSmart (San Diego)</td>\n",
       "      <td>$0.81</td>\n",
       "      <td>-7%</td>\n",
       "      <td>$0.71</td>\n",
       "      <td>0.75</td>\n",
       "      <td>$0.00</td>\n",
       "      <td>$0.10</td>\n",
       "      <td>32.00000</td>\n",
       "      <td>810000.0</td>\n",
       "    </tr>\n",
       "    <tr>\n",
       "      <th>100</th>\n",
       "      <td>101</td>\n",
       "      <td>Elon R. Musk</td>\n",
       "      <td>Tesla Motors (Palo Alto)</td>\n",
       "      <td>$0.04</td>\n",
       "      <td>6%</td>\n",
       "      <td>$0.04</td>\n",
       "      <td>0.04</td>\n",
       "      <td>$0.00</td>\n",
       "      <td>$0.00</td>\n",
       "      <td>0.46000</td>\n",
       "      <td>40000.0</td>\n",
       "    </tr>\n",
       "    <tr>\n",
       "      <th>101</th>\n",
       "      <td>102</td>\n",
       "      <td>Lawrence Page***</td>\n",
       "      <td>Alphabet (Mountain View)</td>\n",
       "      <td>$0.00</td>\n",
       "      <td>0%</td>\n",
       "      <td>$0.00</td>\n",
       "      <td>0.00</td>\n",
       "      <td>$0.00</td>\n",
       "      <td>$0.00</td>\n",
       "      <td>0.00001</td>\n",
       "      <td>0.0</td>\n",
       "    </tr>\n",
       "  </tbody>\n",
       "</table>\n",
       "<p>81 rows × 11 columns</p>\n",
       "</div>"
      ],
      "text/plain": [
       "     Rank                Name                 Company (Headquarters)  \\\n",
       "2       3      Robert A. Iger                  Walt Disney (Burbank)   \n",
       "3       4    Marissa A. Mayer                     Yahoo! (Sunnyvale)   \n",
       "4       5        Marc Benioff         salesforce.com (San Francisco)   \n",
       "5       6  John H. Hammergren               McKesson (San Francisco)   \n",
       "6       7      John S. Watson                    Chevron (San Ramon)   \n",
       "..    ...                 ...                                    ...   \n",
       "96     97       David G. Hirz        Smartæ& Final Stores (Commerce)   \n",
       "97     98  Gregory N. Roberts  A-Mark Precious Metals (Santa Monica)   \n",
       "98     99     Jose L. Laparte                 PriceSmart (San Diego)   \n",
       "100   101        Elon R. Musk               Tesla Motors (Palo Alto)   \n",
       "101   102    Lawrence Page***               Alphabet (Mountain View)   \n",
       "\n",
       "    Total Pay % Change Cash Pay  2014 Total Pay ($) Equity Pay Other Pay  \\\n",
       "2     $44.91       -3%  $24.89                43.56    $17.28     $2.74    \n",
       "3     $35.98      -15%   $1.00                30.58    $34.43     $0.55    \n",
       "4     $33.36      -16%   $4.65                28.02    $27.26     $1.45    \n",
       "5     $24.84       -4%  $12.10                23.85    $12.37     $0.37    \n",
       "6     $22.04      -15%   $4.31                18.73    $14.68     $3.05    \n",
       "..        ...      ...      ...                 ...        ...       ...   \n",
       "96     $1.53      -66%   $1.50                 0.52     $0.00     $0.04    \n",
       "97     $0.94      -11%   $0.93                 0.84     $0.00     $0.02    \n",
       "98     $0.81       -7%   $0.71                 0.75     $0.00     $0.10    \n",
       "100    $0.04        6%   $0.04                 0.04     $0.00     $0.00    \n",
       "101    $0.00        0%   $0.00                 0.00     $0.00     $0.00    \n",
       "\n",
       "     Ratio of CEO pay to average industry worker pay  Total Pay ($)  \n",
       "2                                          477.00000     44910000.0  \n",
       "3                                          342.00000     35980000.0  \n",
       "4                                          338.00000     33360000.0  \n",
       "5                                          222.00000     24840000.0  \n",
       "6                                          183.00000     22040000.0  \n",
       "..                                               ...            ...  \n",
       "96                                          26.00000      1530000.0  \n",
       "97                                          17.00000       940000.0  \n",
       "98                                          32.00000       810000.0  \n",
       "100                                          0.46000        40000.0  \n",
       "101                                          0.00001            0.0  \n",
       "\n",
       "[81 rows x 11 columns]"
      ]
     },
     "execution_count": 31,
     "metadata": {},
     "output_type": "execute_result"
    }
   ],
   "source": [
    "# For reference, our solution involved more than just this one line of code\n",
    "\n",
    "def percentage_to_number(percentage):\n",
    "    return float(percentage.replace(\"%\", \"\")) / 100\n",
    "\n",
    "def convert_to_millions_of_dollars(v):\n",
    "    v = round(v / 1000000, 2)\n",
    "    return v\n",
    "\n",
    "def calculate_previous_compensation(row):\n",
    "    percentage = percentage_to_number(row[\"% Change\"])\n",
    "    pay = convert_pay_string_to_number(row[\"Total Pay\"])  \n",
    "    if percentage < 0:\n",
    "        return convert_to_millions_of_dollars(pay - (pay * (percentage * -1)))\n",
    "    else:\n",
    "        return convert_to_millions_of_dollars(pay * (percentage + 1))\n",
    "    \n",
    "with_previous_compensation = compensation[compensation[\"% Change\"] != \"(No previous year)\"]\n",
    "with_previous_compensation.insert(6, \"2014 Total Pay ($)\", 0)\n",
    "with_previous_compensation[\"2014 Total Pay ($)\"] = with_previous_compensation.apply(calculate_previous_compensation, axis=1)\n",
    "with_previous_compensation"
   ]
  },
  {
   "cell_type": "markdown",
   "metadata": {},
   "source": [
    "**Question 6.** What was the average pay of these CEOs in 2014?"
   ]
  },
  {
   "cell_type": "code",
   "execution_count": 32,
   "metadata": {},
   "outputs": [
    {
     "data": {
      "text/plain": [
       "11.34"
      ]
     },
     "execution_count": 32,
     "metadata": {},
     "output_type": "execute_result"
    }
   ],
   "source": [
    "average_pay_2014 = round(with_previous_compensation[\"2014 Total Pay ($)\"].mean(), 2)\n",
    "average_pay_2014"
   ]
  },
  {
   "cell_type": "markdown",
   "metadata": {},
   "source": [
    "## 4. Histograms\n",
    "Earlier, we computed the average pay among the CEOs in our 102-CEO dataset.  The average doesn't tell us everything about the amounts CEOs are paid, though.  Maybe just a few CEOs make the bulk of the money, even among these 102.\n",
    "\n",
    "We can use a *histogram* to display more information about a set of numbers.  The `DataFrame` method `hist` takes an argument `column`, the name of a column of numbers.  It produces a histogram of the numbers in that column.\n",
    "\n",
    "**Question 1.** Make a histogram of the pay of the CEOs in `compensation`."
   ]
  },
  {
   "cell_type": "code",
   "execution_count": 41,
   "metadata": {},
   "outputs": [
    {
     "data": {
      "text/plain": [
       "array([[<AxesSubplot:title={'center':'Total Pay ($)'}>]], dtype=object)"
      ]
     },
     "execution_count": 41,
     "metadata": {},
     "output_type": "execute_result"
    },
    {
     "data": {
      "image/png": "[encoded data removed]",
      "text/plain": [
       "<Figure size 432x288 with 1 Axes>"
      ]
     },
     "metadata": {
      "needs_background": "light"
     },
     "output_type": "display_data"
    }
   ],
   "source": [
    "compensation.hist(column=\"Total Pay ($)\")"
   ]
  },
  {
   "cell_type": "markdown",
   "metadata": {},
   "source": [
    "**Question 2.** Looking at the histogram, how many CEOs made more than \\$30 million?  (Answer the question by filling in your answer manually.  You'll have to do a bit of arithmetic; feel free to use Python as a calculator.)"
   ]
  },
  {
   "cell_type": "code",
   "execution_count": 43,
   "metadata": {},
   "outputs": [],
   "source": [
    "num_ceos_more_than_30_million = 5"
   ]
  },
  {
   "cell_type": "markdown",
   "metadata": {},
   "source": [
    "**Question 3.** Answer the same question with code.  *Hint:* Use the table method `where` and the property `num_rows`."
   ]
  },
  {
   "cell_type": "code",
   "execution_count": 44,
   "metadata": {},
   "outputs": [
    {
     "data": {
      "text/html": [
       "<div>\n",
       "<style scoped>\n",
       "    .dataframe tbody tr th:only-of-type {\n",
       "        vertical-align: middle;\n",
       "    }\n",
       "\n",
       "    .dataframe tbody tr th {\n",
       "        vertical-align: top;\n",
       "    }\n",
       "\n",
       "    .dataframe thead th {\n",
       "        text-align: right;\n",
       "    }\n",
       "</style>\n",
       "<table border=\"1\" class=\"dataframe\">\n",
       "  <thead>\n",
       "    <tr style=\"text-align: right;\">\n",
       "      <th></th>\n",
       "      <th>Rank</th>\n",
       "      <th>Name</th>\n",
       "      <th>Company (Headquarters)</th>\n",
       "      <th>Total Pay</th>\n",
       "      <th>% Change</th>\n",
       "      <th>Cash Pay</th>\n",
       "      <th>Equity Pay</th>\n",
       "      <th>Other Pay</th>\n",
       "      <th>Ratio of CEO pay to average industry worker pay</th>\n",
       "      <th>Total Pay ($)</th>\n",
       "    </tr>\n",
       "  </thead>\n",
       "  <tbody>\n",
       "    <tr>\n",
       "      <th>0</th>\n",
       "      <td>1</td>\n",
       "      <td>Mark V. Hurd*</td>\n",
       "      <td>Oracle (Redwood City)</td>\n",
       "      <td>$53.25</td>\n",
       "      <td>(No previous year)</td>\n",
       "      <td>$0.95</td>\n",
       "      <td>$52.27</td>\n",
       "      <td>$0.02</td>\n",
       "      <td>362.0</td>\n",
       "      <td>53250000.0</td>\n",
       "    </tr>\n",
       "    <tr>\n",
       "      <th>1</th>\n",
       "      <td>2</td>\n",
       "      <td>Safra A. Catz*</td>\n",
       "      <td>Oracle (Redwood City)</td>\n",
       "      <td>$53.24</td>\n",
       "      <td>(No previous year)</td>\n",
       "      <td>$0.95</td>\n",
       "      <td>$52.27</td>\n",
       "      <td>$0.02</td>\n",
       "      <td>362.0</td>\n",
       "      <td>53240000.0</td>\n",
       "    </tr>\n",
       "    <tr>\n",
       "      <th>2</th>\n",
       "      <td>3</td>\n",
       "      <td>Robert A. Iger</td>\n",
       "      <td>Walt Disney (Burbank)</td>\n",
       "      <td>$44.91</td>\n",
       "      <td>-3%</td>\n",
       "      <td>$24.89</td>\n",
       "      <td>$17.28</td>\n",
       "      <td>$2.74</td>\n",
       "      <td>477.0</td>\n",
       "      <td>44910000.0</td>\n",
       "    </tr>\n",
       "    <tr>\n",
       "      <th>3</th>\n",
       "      <td>4</td>\n",
       "      <td>Marissa A. Mayer</td>\n",
       "      <td>Yahoo! (Sunnyvale)</td>\n",
       "      <td>$35.98</td>\n",
       "      <td>-15%</td>\n",
       "      <td>$1.00</td>\n",
       "      <td>$34.43</td>\n",
       "      <td>$0.55</td>\n",
       "      <td>342.0</td>\n",
       "      <td>35980000.0</td>\n",
       "    </tr>\n",
       "    <tr>\n",
       "      <th>4</th>\n",
       "      <td>5</td>\n",
       "      <td>Marc Benioff</td>\n",
       "      <td>salesforce.com (San Francisco)</td>\n",
       "      <td>$33.36</td>\n",
       "      <td>-16%</td>\n",
       "      <td>$4.65</td>\n",
       "      <td>$27.26</td>\n",
       "      <td>$1.45</td>\n",
       "      <td>338.0</td>\n",
       "      <td>33360000.0</td>\n",
       "    </tr>\n",
       "  </tbody>\n",
       "</table>\n",
       "</div>"
      ],
      "text/plain": [
       "   Rank              Name          Company (Headquarters) Total Pay  \\\n",
       "0     1     Mark V. Hurd*           Oracle (Redwood City)   $53.25    \n",
       "1     2    Safra A. Catz*           Oracle (Redwood City)   $53.24    \n",
       "2     3    Robert A. Iger           Walt Disney (Burbank)   $44.91    \n",
       "3     4  Marissa A. Mayer              Yahoo! (Sunnyvale)   $35.98    \n",
       "4     5      Marc Benioff  salesforce.com (San Francisco)   $33.36    \n",
       "\n",
       "             % Change Cash Pay Equity Pay Other Pay  \\\n",
       "0  (No previous year)   $0.95     $52.27     $0.02    \n",
       "1  (No previous year)   $0.95     $52.27     $0.02    \n",
       "2                 -3%  $24.89     $17.28     $2.74    \n",
       "3                -15%   $1.00     $34.43     $0.55    \n",
       "4                -16%   $4.65     $27.26     $1.45    \n",
       "\n",
       "   Ratio of CEO pay to average industry worker pay  Total Pay ($)  \n",
       "0                                            362.0     53250000.0  \n",
       "1                                            362.0     53240000.0  \n",
       "2                                            477.0     44910000.0  \n",
       "3                                            342.0     35980000.0  \n",
       "4                                            338.0     33360000.0  "
      ]
     },
     "execution_count": 44,
     "metadata": {},
     "output_type": "execute_result"
    }
   ],
   "source": [
    "num_ceos_more_than_30_million_2 = compensation.loc[(compensation['Total Pay ($)'] > 30000000)]\n",
    "num_ceos_more_than_30_million_2"
   ]
  },
  {
   "cell_type": "markdown",
   "metadata": {},
   "source": [
    "---\n",
    "You're done with Lab 4a!\n",
    "\n",
    "Choose **Save and Checkpoint** from the **File** menu to save your work.\n",
    "\n",
    "If you are running the labs in Binder (on the cloud), then choose **Download as Notebook** and save it to your computer. \n",
    "\n",
    "You can then move on to [Lab 4b](Lab4b_Data_Cleaning_and_Analysis_challenge.ipynb)."
   ]
  },
  {
   "cell_type": "code",
   "execution_count": null,
   "metadata": {},
   "outputs": [],
   "source": []
  }
 ],
 "metadata": {
  "anaconda-cloud": {},
  "kernelspec": {
   "display_name": "Python 3 (ipykernel)",
   "language": "python",
   "name": "python3"
  },
  "language_info": {
   "codemirror_mode": {
    "name": "ipython",
    "version": 3
   },
   "file_extension": ".py",
   "mimetype": "text/x-python",
   "name": "python",
   "nbconvert_exporter": "python",
   "pygments_lexer": "ipython3",
   "version": "3.9.7"
  },
  "widgets": {
   "state": {
    "0fe728eba2e6465c9b452d2eb017fee1": {
     "views": [
      {
       "cell_index": 26
      }
     ]
    },
    "282b6d570ecd448d9ad1c8ac5ebf7b0f": {
     "views": [
      {
       "cell_index": 40
      }
     ]
    }
   },
   "version": "1.2.0"
  }
 },
 "nbformat": 4,
 "nbformat_minor": 1
}
